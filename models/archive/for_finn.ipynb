{
 "cells": [
  {
   "cell_type": "code",
   "execution_count": 1,
   "metadata": {},
   "outputs": [],
   "source": [
    "# import sys\n",
    "# sys.path.insert(0,\".\")\n",
    "\n",
    "import prob4_CNN\n",
    "\n",
    "\n",
    "from __future__ import print_function\n",
    "import numpy as np\n",
    "import torch\n",
    "import torch.nn as nn\n",
    "import torch.nn.functional as F\n",
    "import torch.optim as optim\n",
    "from torchvision import datasets, transforms\n",
    "from torchvision.utils import save_image, make_grid\n",
    "\n",
    "# from einops import rearrange, reduce\n",
    "import matplotlib.pyplot as plt\n",
    "from matplotlib import pyplot as plt\n",
    "\n",
    "import numpy as np\n",
    "\n",
    "class Args():\n",
    "    def __init__(self,batch_size, test_batch_size, epochs,lr, momentum, no_cuda, seed, log_interval, save_model):\n",
    "        self.batch_size=batch_size\n",
    "        self.test_batch_size=test_batch_size\n",
    "        self.epochs=epochs\n",
    "        self.lr=lr\n",
    "        self.momentum=momentum\n",
    "        self.no_cuda=no_cuda\n",
    "        self.seed=seed\n",
    "        self.log_interval=log_interval\n",
    "        self.save_model=save_model\n",
    "        \n",
    "        \n",
    "args = Args(\n",
    "    batch_size=64,\n",
    "    test_batch_size=1000,\n",
    "    epochs=5,\n",
    "    lr=0.01,\n",
    "    momentum=0.5,\n",
    "    no_cuda=False,\n",
    "    seed=1,\n",
    "    log_interval=10,\n",
    "    save_model=True\n",
    ")\n",
    "\n",
    "use_cuda = not args.no_cuda and torch.cuda.is_available()\n",
    "device = torch.device(\"cuda\" if use_cuda else \"cpu\")\n",
    "\n"
   ]
  },
  {
   "cell_type": "code",
   "execution_count": 19,
   "metadata": {},
   "outputs": [
    {
     "data": {
      "text/plain": [
       "CNN(\n",
       "  (conv1): Conv2d(1, 40, kernel_size=(5, 5), stride=(1, 1))\n",
       "  (conv2): Conv2d(40, 80, kernel_size=(5, 5), stride=(1, 1))\n",
       "  (fc1): Linear(in_features=1280, out_features=500, bias=True)\n",
       "  (fc2): Linear(in_features=500, out_features=10, bias=True)\n",
       ")"
      ]
     },
     "execution_count": 19,
     "metadata": {},
     "output_type": "execute_result"
    }
   ],
   "source": [
    "model = prob4_CNN.CNN().to(device)\n",
    "model.load_state_dict(torch.load(\"models/cnn/mnist_cnn_vf.pt\"))\n",
    "model.eval()"
   ]
  },
  {
   "cell_type": "code",
   "execution_count": null,
   "metadata": {},
   "outputs": [],
   "source": [
    "\n",
    "# correct = 0\n",
    "\n",
    "# pred_=[]\n",
    "# test_labels=[]\n",
    "\n",
    "# with torch.no_grad():\n",
    "#     for data, target in test_loader:\n",
    "#         data, target = data.to(device), target.to(device)\n",
    "#         output = model(data)\n",
    "#         pred = output.argmax(dim=1, keepdim=True) # get the index of the max log-probability\n",
    "#         test_labels.append(target)\n",
    "#         pred_.append(pred)\n",
    "#         correct += pred.eq(target.view_as(pred)).sum().item()\n",
    "\n",
    "# plt.imshow(data[573][0],cmap=\"gist_gray\")\n",
    "# plt.bar(x=[0,1,2,3,4,5,6,7,8,9],height=-output[573])\n",
    "# int(output.argmax(dim=1, keepdim=True)[573])"
   ]
  },
  {
   "cell_type": "code",
   "execution_count": 3,
   "metadata": {},
   "outputs": [],
   "source": [
    "# # testing - can ignore\n",
    "pos = []\n",
    "for i in np.arange(0,28,1):\n",
    "    pos.append([i,i])\n",
    "\n",
    "# blank_image = [[0]*28]*28\n",
    "# print(f\"Number of columns, should be 28: {len(blank_image)}\")\n",
    "# print(f\"Number of rows, should be 28: {len(blank_image[0])}\")\n",
    "# plt.imshow(blank_image,cmap=\"gist_gray\")\n",
    "# plt.title(f\"Blank Image\")"
   ]
  },
  {
   "cell_type": "code",
   "execution_count": 4,
   "metadata": {},
   "outputs": [],
   "source": [
    "def list_to_28x28_tensor(lst):\n",
    "    blank_image = [[0]*28]*28\n",
    "    tens = torch.Tensor(blank_image)\n",
    "    for i in lst:\n",
    "        tens[i[0],i[1]] += 1\n",
    "    return tens"
   ]
  },
  {
   "cell_type": "code",
   "execution_count": 5,
   "metadata": {},
   "outputs": [],
   "source": [
    "def list_to_prediction(lst, vis1=False,vis2=False,bw=True):\n",
    "    tens = list_to_28x28_tensor(lst)\n",
    "    tens_reshaped = tens.reshape((1,28,28))\n",
    "    fitted = model(tens_reshaped)\n",
    "\n",
    "    if vis1:\n",
    "        if bw:\n",
    "            plt.imshow(tens, cmap = \"gist_gray\")\n",
    "        else:\n",
    "            plt.imshow(tens)\n",
    "        plt.show()\n",
    "    if vis2:\n",
    "        plt.bar(x=[0,1,2,3,4,5,6,7,8,9],height=fitted.reshape(10,).detach().numpy())\n",
    "        plt.show()\n",
    "\n",
    "    guess = int(fitted.argmax(dim=1,keepdim=True))\n",
    "    print(f\"Based on our machine learning analytics, we believe this visual to be: {guess}\")\n",
    "    return guess"
   ]
  },
  {
   "cell_type": "code",
   "execution_count": 6,
   "metadata": {},
   "outputs": [],
   "source": [
    "# _ = list_to_prediction(lst=pos,vis1=True,vis2=True,bw=True)"
   ]
  },
  {
   "attachments": {},
   "cell_type": "markdown",
   "metadata": {},
   "source": [
    "# TODO\n",
    "why I am not getting binary results? my visuals look like true heatmaps...whats up?? does his website have dupes or is there a big in MY code?\n",
    "# answer\n",
    "his code has dupes, so I need to decide whether I like the depth or whether I want to change mine from += 1 to = 1"
   ]
  },
  {
   "cell_type": "code",
   "execution_count": null,
   "metadata": {},
   "outputs": [],
   "source": []
  },
  {
   "cell_type": "code",
   "execution_count": 8,
   "metadata": {},
   "outputs": [],
   "source": [
    "# # https://sharkyweb-dotcom.github.io/pixel-nums/\n",
    "# basic_one_attempt = [\n",
    "#     [5,11],[7,11],[8,11],[9,11],[7,12],[8,12],[13,12],[12,12],[11,12],[10,13],[9,13],[7,13],[6,14],[6,13],[5,13],[4,13],[4,12],[5,12],[6,12],[7,12],[8,12],[9,12],[10,12],[12,12],[13,12],[14,12],[15,12],[16,12],[17,12],[18,12],[19,12],[20,12],[21,12],[22,12],[20,12],[19,13],[18,13],[17,13],[16,13],[15,13],[14,13],[13,13],[12,13],[11,13],[10,13],[8,14],[7,14],[7,13],[8,13],[8,12],[9,12],[9,13],[8,13],[8,14],[9,14],[10,14],[11,14],[12,14],[13,14],[14,14],[15,14],[16,14],[17,14],[18,14],[19,14],[20,14],[21,14],[22,14],[22,13],[21,13],[21,12],[20,12],[19,12],[20,12],[20,13],[19,13],[18,13],[18,12],[17,12],[16,12],[15,11],[14,11],[13,11],[12,11],[11,11],[10,11],[9,11],[8,11],[7,11],[6,11],[5,11],[4,11],[3,11],[3,12],[3,13],[4,13],[4,14],[5,14],[4,14],[3,14],[4,14],[5,14],[5,15],[6,15],[7,15],[8,15],[9,15],[10,15],[11,15],[12,15],[13,14],[14,14],[15,14],[16,14],[17,14],[18,14],[19,14],[20,14],[21,14],[22,14],[21,14],[21,13],[20,13],[19,12],[18,12],[17,12],[17,11],[16,11],[16,12],[15,12],[16,11],[17,11],[18,11],[19,11],[20,11],[20,12],[21,12],[21,13],[21,14],[21,15],[20,15],[19,15],[18,15],[17,15],[16,15],[15,15],[14,15],[13,15],[12,15],[11,15],[11,14],[10,14]\n",
    "# ]"
   ]
  },
  {
   "cell_type": "code",
   "execution_count": 29,
   "metadata": {},
   "outputs": [],
   "source": [
    "basic_one_attempt = [\n",
    "    [6,11],[7,10],[7,9],[8,9],[9,9],[10,9],[11,9],[11,8],[12,8],[13,8],[14,8],[15,8],[16,8],[17,9],[18,9],[18,10],[19,11],[19,12],[20,12],[20,13],[19,14],[19,15],[19,16],[19,17],[18,19],[18,20],[17,20],[17,21],[16,21],[16,22],[14,22],[14,23],[13,23],[12,23],[12,22],[11,22],[10,21],[9,22],[8,22],[7,22],[7,21],[6,20],[5,19],[5,18],[4,18],[3,17],[3,16],[3,15],[3,14],[4,13],[5,13],[5,12],[6,12],[7,12],[7,11],[8,10],[9,10],[10,10],[11,10],[12,10],[12,9],[13,9],[14,9],[15,9],[16,9],[16,8],[17,8],[18,8],[19,8],[19,9],[19,10],[20,10],[20,11],[20,12],[20,13],[20,14],[20,15],[20,16],[20,17],[19,17],[19,18],[18,18],[18,19],[18,20],[17,20],[17,21],[16,21],[16,22],[15,22],[14,22],[13,22],[12,22],[11,22],[10,22],[9,22],[8,23],[8,22],[7,22],[7,21],[6,21],[5,20],[4,20],[4,19],[3,19],[3,18],[3,17],[3,16],[4,15],[4,14],[4,15],[4,16],[4,17],\n",
    "]"
   ]
  },
  {
   "cell_type": "code",
   "execution_count": 33,
   "metadata": {},
   "outputs": [
    {
     "data": {
      "image/png": "[encoded data removed]",
      "text/plain": [
       "<Figure size 432x288 with 1 Axes>"
      ]
     },
     "metadata": {
      "needs_background": "light"
     },
     "output_type": "display_data"
    },
    {
     "data": {
      "image/png": "[encoded data removed]",
      "text/plain": [
       "<Figure size 432x288 with 1 Axes>"
      ]
     },
     "metadata": {
      "needs_background": "light"
     },
     "output_type": "display_data"
    },
    {
     "name": "stdout",
     "output_type": "stream",
     "text": [
      "Based on our machine learning analytics, we believe this visual to be: 0\n"
     ]
    }
   ],
   "source": [
    "_ = list_to_prediction(lst=basic_one_attempt,vis1=True,vis2=True,bw=False)"
   ]
  },
  {
   "cell_type": "code",
   "execution_count": 27,
   "metadata": {},
   "outputs": [],
   "source": [
    "three = [\n",
    "    [8,6],[7,7],[6,7],[6,8],[5,8],[5,9],[5,10],[4,12],[4,13],[4,14],[4,15],[4,16],[4,17],[5,17],[5,18],[6,18],[7,18],[8,18],[9,18],[10,17],[11,16],[11,15],[12,14],[13,13],[13,12],[13,11],[13,10],[12,11],[12,12],[12,13],[12,14],[12,15],[13,16],[13,17],[14,17],[14,18],[15,18],[16,18],[17,18],[18,18],[19,18],[20,18],[20,17],[21,17],[21,16],[22,15],[23,14],[23,13],[23,12],[23,11],[23,10],[23,9],[23,8],[23,7],[22,7],[21,7],[21,8],[21,9],[21,10],[21,11],[22,11],[22,12],[22,13],[22,12],[22,11],[22,10],[22,9],[22,8],[21,8],[21,9],[21,10],[21,11],[21,12],[21,13],[21,14],[21,15],[20,16],[20,17],[19,17],[18,17],[17,17],[16,17],[15,17],[14,17],[14,16],[13,16],[13,15],[12,15],[12,14],[12,13],[12,12],[12,11],[12,12],[12,13],[11,13],[11,14],[11,15],[10,15],[10,16],[9,16],[9,17],[8,17],[8,18],[7,18],[7,17],[6,17],[4,17],[5,17],[5,16],[5,15],[5,14],[4,14],[4,13],[4,12],[5,12],[5,11],[5,10],[4,10],[4,11],[3,11],[3,12],[3,13],[3,12],[3,11],[4,11],[4,10],[4,9],[5,9],[5,8],[6,8],[5,8],[5,7],[6,7],[7,7],[7,6],[8,6],[7,6],[7,7],[6,7],[5,8],[5,9],[5,10],\n",
    "]"
   ]
  },
  {
   "cell_type": "code",
   "execution_count": 31,
   "metadata": {},
   "outputs": [
    {
     "ename": "NameError",
     "evalue": "name 'three' is not defined",
     "output_type": "error",
     "traceback": [
      "\u001b[1;31m---------------------------------------------------------------------------\u001b[0m",
      "\u001b[1;31mNameError\u001b[0m                                 Traceback (most recent call last)",
      "\u001b[1;32mc:\\Users\\richa\\OneDrive - Yale University\\1_Courses\\1st Year Spring\\CPSC552\\hell\\cpsc552\\ps2\\for_finn.ipynb Cell 14\u001b[0m in \u001b[0;36m<cell line: 1>\u001b[1;34m()\u001b[0m\n\u001b[1;32m----> <a href='vscode-notebook-cell:/c%3A/Users/richa/OneDrive%20-%20Yale%20University/1_Courses/1st%20Year%20Spring/CPSC552/hell/cpsc552/ps2/for_finn.ipynb#X16sZmlsZQ%3D%3D?line=0'>1</a>\u001b[0m _ \u001b[39m=\u001b[39m list_to_prediction(lst\u001b[39m=\u001b[39mthree,vis1\u001b[39m=\u001b[39m\u001b[39mTrue\u001b[39;00m,vis2\u001b[39m=\u001b[39m\u001b[39mTrue\u001b[39;00m,bw\u001b[39m=\u001b[39m\u001b[39mFalse\u001b[39;00m)\n",
      "\u001b[1;31mNameError\u001b[0m: name 'three' is not defined"
     ]
    }
   ],
   "source": [
    "_ = list_to_prediction(lst=three,vis1=True,vis2=True,bw=False)"
   ]
  },
  {
   "cell_type": "code",
   "execution_count": 21,
   "metadata": {},
   "outputs": [],
   "source": [
    "eight = [\n",
    "    [6,16],[6,15],[5,15],[5,14],[4,14],[4,13],[4,12],[4,11],[4,10],[4,9],[5,9],[5,8],[6,8],[7,8],[7,7],[8,7],[9,7],[9,8],[10,8],[10,10],[10,11],[11,11],[11,12],[12,13],[12,14],[13,15],[14,16],[14,17],[15,17],[16,18],[17,18],[18,18],[19,18],[20,18],[20,17],[21,17],[22,16],[22,15],[23,15],[23,14],[23,13],[23,12],[23,11],[23,10],[23,9],[22,9],[22,8],[21,8],[21,7],[20,7],[19,7],[18,7],[17,7],[17,8],[16,8],[15,8],[15,9],[15,10],[14,10],[14,11],[13,11],[13,12],[12,12],[12,13],[11,13],[11,14],[10,14],[10,15],[9,16],[9,17],[8,17],[7,17],[6,17],[5,17],[5,16],[4,16],[4,15],[3,14],[3,13],[3,12],[3,11],[3,10],[4,9],[4,8],[5,8],[6,8],[6,7],[7,7],[7,8],[8,8],[9,8],[9,9],[10,9],[10,10],[10,11],[11,12],[11,13],[12,13],[12,14],[13,14],[13,15],[14,15],[14,16],[15,17],[15,18],[16,18],[16,19],[17,19],[18,19],[18,18],[19,18],[20,17],[20,16],[21,16],[22,15],[22,14],[22,13],[4,8],[4,7],[5,7],[6,7],[7,7],[8,7],[9,7],[10,7],[10,8],[10,9],[11,9],[11,10],[12,10],[12,11],[12,12],[13,12],[13,13],[13,14],[13,15],[14,15],[14,14],[14,13],[13,12],[13,11],[13,10],[12,11],[12,12],[13,12],[12,12],[12,11],[12,10],[11,10],[11,9],[11,8],[10,8],[11,8],[11,9],[12,9],[12,10],[13,10],[14,11],[14,10],[15,9],[16,8],[16,7],[17,7],[16,7],[15,7],[14,8],[14,9],[13,9],[14,9],[15,8],[17,7],[18,7],[19,7],[20,7],[19,8],[18,8],[17,9],[17,8],[18,8],[19,8],[20,8],[20,9],[21,9],\n",
    "]"
   ]
  },
  {
   "cell_type": "code",
   "execution_count": 32,
   "metadata": {},
   "outputs": [
    {
     "data": {
      "image/png": "[encoded data removed]",
      "text/plain": [
       "<Figure size 432x288 with 1 Axes>"
      ]
     },
     "metadata": {
      "needs_background": "light"
     },
     "output_type": "display_data"
    },
    {
     "data": {
      "image/png": "[encoded data removed]",
      "text/plain": [
       "<Figure size 432x288 with 1 Axes>"
      ]
     },
     "metadata": {
      "needs_background": "light"
     },
     "output_type": "display_data"
    },
    {
     "name": "stdout",
     "output_type": "stream",
     "text": [
      "Based on our machine learning analytics, we believe this visual to be: 8\n"
     ]
    }
   ],
   "source": [
    "_ = list_to_prediction(lst=eight,vis1=True,vis2=True,bw=False)"
   ]
  },
  {
   "cell_type": "code",
   "execution_count": 24,
   "metadata": {},
   "outputs": [],
   "source": [
    "seven = [\n",
    "    [8,7],[8,6],[7,6],[6,6],[5,6],[5,5],[4,5],[3,5],[3,6],[3,7],[4,7],[4,8],[4,9],[4,10],[4,11],[4,12],[4,13],[4,14],[4,15],[4,16],[4,17],[4,18],[4,19],[3,19],[3,20],[3,21],[3,22],[4,22],[5,22],[6,21],[7,21],[8,20],[9,19],[10,17],[11,17],[12,16],[13,15],[14,14],[15,13],[16,13],[16,12],[17,11],[19,10],[19,9],[20,9],[21,8],[22,8],[22,7],[23,7],[23,8],[22,8],[22,9],[21,9],[21,10],[20,10],[20,11],[19,11],[19,12],[18,12],[18,13],[17,13],[17,14],[16,14],[15,15],[14,15],[14,16],[13,16],[12,17],[11,17],[11,18],[10,18],[10,19],[9,19],[9,20],[8,20],[8,21],[7,21],[6,22],[7,21],[8,21],[8,20],[9,20],[9,19],[10,18],[11,17],[12,17],[13,16],[14,15],[15,15],[15,14],[16,14],[17,13],[17,12],[18,12],[18,11],[18,10],[19,10],[18,10],[18,11],[17,11],[16,12],[15,13],[14,13],[14,14],[13,15],[12,16],[11,16],[11,17],[10,17],[10,18],[9,18],[9,19],[9,20],[8,20],[8,21],[7,21],[7,22],[6,22],[5,22],[4,22],[4,21],[4,20],[4,21],[5,21],[6,21],[6,20],[6,19],[5,19],[5,18],[5,17],[5,18],[5,19],[5,20],[5,21],[5,20],[5,19],[5,18],[5,17],[5,16],[5,15],[5,14],[5,13],[5,12],[5,11],[5,10],[5,9],[5,8],[5,7],[5,6],[4,6],[5,6],[6,6],[6,7],[6,8],[6,9],[6,10],[6,11],[6,12],[6,13],[6,14],[6,15],[6,17],[6,18],[6,19],[6,20],[7,22],[8,22],[9,22],[9,21],[10,21],[10,20],[11,19],[11,18],[12,18],[12,17],[13,17],[13,16],[14,16],[15,16],[15,15],[16,15],[16,14],[17,14],[17,13],[18,13],[18,12],[19,12],[19,11],[20,11],[21,11],[21,10],[22,10],[22,9],[23,9]\n",
    "]"
   ]
  },
  {
   "cell_type": "code",
   "execution_count": 26,
   "metadata": {},
   "outputs": [
    {
     "data": {
      "image/png": "[encoded data removed]",
      "text/plain": [
       "<Figure size 432x288 with 1 Axes>"
      ]
     },
     "metadata": {
      "needs_background": "light"
     },
     "output_type": "display_data"
    },
    {
     "data": {
      "image/png": "[encoded data removed]",
      "text/plain": [
       "<Figure size 432x288 with 1 Axes>"
      ]
     },
     "metadata": {
      "needs_background": "light"
     },
     "output_type": "display_data"
    },
    {
     "name": "stdout",
     "output_type": "stream",
     "text": [
      "Based on our machine learning analytics, we believe this visual to be: 7\n"
     ]
    }
   ],
   "source": [
    "_ = list_to_prediction(lst=seven,vis1=True,vis2=True,bw=False)"
   ]
  },
  {
   "cell_type": "code",
   "execution_count": 27,
   "metadata": {},
   "outputs": [],
   "source": [
    "one = [\n",
    "    [4,12],[5,12],[6,12],[7,12],[8,12],[9,12],[10,12],[11,12],[12,12],[13,12],[14,12],[15,12],[16,12],[17,12],[18,12],[19,12],[20,12],[21,12],[22,12],[23,12],[22,12],[21,12],[21,13],[20,13],[19,13],[18,13],[17,13],[16,13],[15,13],[14,13],[13,13],[12,13],[11,13],[10,13],[9,13],[8,13],[7,13],[6,13],[5,13],[4,13],[4,14],[5,14],[6,14],[6,13],[7,13],[8,13],[9,13],[10,13],[11,13],[13,13],[14,13],[15,13],[16,13],[17,13],[17,14],[18,14],[19,14],[20,14],[21,14],[22,14],[23,13],[22,13],[21,13],[21,14],[21,15],[20,15],[19,15],[18,15],[17,15],[16,16],[15,16],[14,16],[13,16],[12,16],[11,15],[10,15],[9,15],[8,15],[7,15],[6,15],[5,15],[5,14],[6,14],[7,14],[8,14],[9,14],[10,14],[11,14],[12,14],[13,14],[14,14],[15,14],[16,14],[17,14],[18,14],\n",
    "]"
   ]
  },
  {
   "cell_type": "code",
   "execution_count": 28,
   "metadata": {},
   "outputs": [
    {
     "data": {
      "image/png": "[encoded data removed]",
      "text/plain": [
       "<Figure size 432x288 with 1 Axes>"
      ]
     },
     "metadata": {
      "needs_background": "light"
     },
     "output_type": "display_data"
    },
    {
     "data": {
      "image/png": "[encoded data removed]",
      "text/plain": [
       "<Figure size 432x288 with 1 Axes>"
      ]
     },
     "metadata": {
      "needs_background": "light"
     },
     "output_type": "display_data"
    },
    {
     "name": "stdout",
     "output_type": "stream",
     "text": [
      "Based on our machine learning analytics, we believe this visual to be: 1\n"
     ]
    }
   ],
   "source": [
    "_ = list_to_prediction(lst=one,vis1=True,vis2=True,bw=False)"
   ]
  },
  {
   "cell_type": "code",
   "execution_count": null,
   "metadata": {},
   "outputs": [],
   "source": []
  },
  {
   "cell_type": "code",
   "execution_count": null,
   "metadata": {},
   "outputs": [],
   "source": []
  },
  {
   "cell_type": "code",
   "execution_count": 12,
   "metadata": {},
   "outputs": [],
   "source": [
    "from torch import nn\n",
    "import torch.nn.functional as F\n",
    "import torch"
   ]
  },
  {
   "cell_type": "code",
   "execution_count": 13,
   "metadata": {},
   "outputs": [],
   "source": [
    "class CNN(nn.Module):\n",
    "    def __init__(self):\n",
    "        super(CNN, self).__init__()\n",
    "        self.conv1 = nn.Conv2d(1, 40, 5, 1)\n",
    "        self.conv2 = nn.Conv2d(40, 80, 5, 1)\n",
    "        self.fc1 = nn.Linear(4*4*80, 500)\n",
    "        self.fc2 = nn.Linear(500, 10)\n",
    "\n",
    "    def forward(self, x):\n",
    "        x = F.relu(self.conv1(x))\n",
    "        x = F.max_pool2d(x, 2, 2)\n",
    "        x = F.relu(self.conv2(x))\n",
    "        x = F.max_pool2d(x, 2, 2)\n",
    "        x = x.view(-1,4*4*80)\n",
    "        x = F.relu(self.fc1(x))\n",
    "        x = self.fc2(x)\n",
    "\n",
    "        return F.softmax(x, dim=1)"
   ]
  },
  {
   "cell_type": "code",
   "execution_count": 5,
   "metadata": {},
   "outputs": [],
   "source": [
    "# import prob4_CNN\n",
    "# model = prob4_CNN.CNN()"
   ]
  },
  {
   "cell_type": "code",
   "execution_count": 14,
   "metadata": {},
   "outputs": [
    {
     "data": {
      "text/plain": [
       "<All keys matched successfully>"
      ]
     },
     "execution_count": 14,
     "metadata": {},
     "output_type": "execute_result"
    }
   ],
   "source": [
    "# model = prob4_CNN.CNN() #.to(device)\n",
    "model = CNN()\n",
    "model.load_state_dict(torch.load(\"models/cnn/mnist_cnn_vf.pt\"))"
   ]
  },
  {
   "cell_type": "code",
   "execution_count": 15,
   "metadata": {},
   "outputs": [],
   "source": [
    "gmodel.eval()\n",
    "dummy_input = torch.zeros(1,1,28,28)\n",
    "torch.onnx.export(model,dummy_input,'onnx_model_inference.onnx',verbose=True)"
   ]
  }
 ],
 "metadata": {
  "kernelspec": {
   "display_name": "Python 3 (ipykernel)",
   "language": "python",
   "name": "python3"
  },
  "language_info": {
   "codemirror_mode": {
    "name": "ipython",
    "version": 3
   },
   "file_extension": ".py",
   "mimetype": "text/x-python",
   "name": "python",
   "nbconvert_exporter": "python",
   "pygments_lexer": "ipython3",
   "version": "3.9.12"
  },
  "vscode": {
   "interpreter": {
    "hash": "d452713d07931529b46a6a4adbae9c48126cf3f4bc3a50be39ac3715dec6caaa"
   }
  }
 },
 "nbformat": 4,
 "nbformat_minor": 2
}
